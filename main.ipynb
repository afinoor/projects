{
 "cells": [
  {
   "cell_type": "markdown",
   "id": "954764e1",
   "metadata": {},
   "source": [
    "# Purpose of the Analysis: Building a prediction model for NSW Real Estate\n",
    "\n",
    "## Purpose\n",
    "The main objective here is to build a model that will predict the purchase price of a property with maximum possible accuracy.\n",
    "\n",
    "This model can be used by the following parties:\n",
    "\n",
    "1. Individual real property owners: Individuals owning an property and willing to sell it, can benefit from this model, as, properties can be sold in a competitive marketplace only if the asking price is at or less than the competitive market price. If the property is valaute at less than the market price then the owner will lose out on some money. On the other hand, if the asking price is more than the market price then people will not pay for this property.\n",
    "\n",
    "4. Real estate companies: Real estate companies willing to deal properties in a particular location can easily predict what the rent will be given their specification. This will help the real estate companies evaluate the project before investing more accurately.\n",
    "\n",
    "2. Business Owners: business owners who are looking to buy properties can more accurately do cost-benefit analysis before starting to look for places for their shops, warehouse or factories. \n",
    " \n",
    "## Hypothesis:\n",
    "Regression models can accurately predict **property purchase price** using geographical information, property details, and settlement time. \n",
    "\n",
    "**I will be using linear regression model, and decision tree (regressor) to try to predict the property purchase price.**"
   ]
  },
  {
   "cell_type": "markdown",
   "id": "68195eee",
   "metadata": {},
   "source": [
    "# Data Introduction"
   ]
  },
  {
   "cell_type": "markdown",
   "id": "3a155ffb",
   "metadata": {},
   "source": [
    "This dataset was collected from Kaggle. Here is the link to the dataset: https://www.kaggle.com/datasets/josephcheng123456/nsw-australia-property-data/data\n",
    "\n",
    "The person who shared this dataset in Kaggle, scrapped it from here: https://valuation.property.nsw.gov.au/embed/propertySalesInformation\n",
    "\n",
    "NSW authority shares the prices of property sales on a weekly basis, but the shared datasets are in DAT format and compiled in thousands of files over hundreds of folders. It downloaded, cleaned and compiled into a csv format where the datasets included all the property sales data from 1990 to 2000 in one dataset and another data included property data from 2001 to 2024.\n",
    "\n",
    "**Please note that the original 'nsw_property_data.csv' dataset had over 4.8 million datasets with a size of 600 MB+. I was working with that csv file, but while pushing github was giving me an error saying I can't push files with size over 100MB. Moreover, running machine learning models with original dataset was taking a lot time. So I trimmed the data before to reduce the dataset size**"
   ]
  },
  {
   "cell_type": "markdown",
   "id": "a1923a76",
   "metadata": {},
   "source": [
    "# Data cleaning and preparation"
   ]
  },
  {
   "cell_type": "code",
   "execution_count": 1,
   "id": "e9cf9035",
   "metadata": {},
   "outputs": [],
   "source": [
    "#importing necessary libraries\n",
    "import pandas as pd\n",
    "import datetime\n",
    "import numpy as np\n",
    "import matplotlib.pylab as plt"
   ]
  },
  {
   "cell_type": "code",
   "execution_count": 2,
   "id": "e83db241",
   "metadata": {},
   "outputs": [],
   "source": [
    "#importing the trimmed dataset\n",
    "property_data = pd.read_csv('nsw_property_data_new.csv')"
   ]
  },
  {
   "cell_type": "markdown",
   "id": "b2d18712",
   "metadata": {},
   "source": [
    "## Data Exploration"
   ]
  },
  {
   "cell_type": "code",
   "execution_count": 3,
   "id": "963f4619",
   "metadata": {
    "scrolled": true
   },
   "outputs": [
    {
     "data": {
      "text/html": [
       "<div>\n",
       "<style scoped>\n",
       "    .dataframe tbody tr th:only-of-type {\n",
       "        vertical-align: middle;\n",
       "    }\n",
       "\n",
       "    .dataframe tbody tr th {\n",
       "        vertical-align: top;\n",
       "    }\n",
       "\n",
       "    .dataframe thead th {\n",
       "        text-align: right;\n",
       "    }\n",
       "</style>\n",
       "<table border=\"1\" class=\"dataframe\">\n",
       "  <thead>\n",
       "    <tr style=\"text-align: right;\">\n",
       "      <th></th>\n",
       "      <th>property_id</th>\n",
       "      <th>download_date</th>\n",
       "      <th>council_name</th>\n",
       "      <th>purchase_price</th>\n",
       "      <th>address</th>\n",
       "      <th>post_code</th>\n",
       "      <th>property_type</th>\n",
       "      <th>strata_lot_number</th>\n",
       "      <th>property_name</th>\n",
       "      <th>area</th>\n",
       "      <th>area_type</th>\n",
       "      <th>contract_date</th>\n",
       "      <th>settlement_date</th>\n",
       "      <th>zoning</th>\n",
       "      <th>nature_of_property</th>\n",
       "      <th>primary_purpose</th>\n",
       "      <th>legal_description</th>\n",
       "    </tr>\n",
       "  </thead>\n",
       "  <tbody>\n",
       "    <tr>\n",
       "      <th>0</th>\n",
       "      <td>1672682.0</td>\n",
       "      <td>2024-02-19</td>\n",
       "      <td>BYRON</td>\n",
       "      <td>1120000.0</td>\n",
       "      <td>129 MAFEKING RD, GOONENGERRY</td>\n",
       "      <td>2482.0</td>\n",
       "      <td>house</td>\n",
       "      <td>NaN</td>\n",
       "      <td>NaN</td>\n",
       "      <td>3.419</td>\n",
       "      <td>H</td>\n",
       "      <td>2024-01-19</td>\n",
       "      <td>2024-02-15</td>\n",
       "      <td>RU2</td>\n",
       "      <td>R</td>\n",
       "      <td>RESIDENCE</td>\n",
       "      <td>1/607703</td>\n",
       "    </tr>\n",
       "    <tr>\n",
       "      <th>1</th>\n",
       "      <td>1665192.0</td>\n",
       "      <td>2024-02-19</td>\n",
       "      <td>BYRON</td>\n",
       "      <td>2800000.0</td>\n",
       "      <td>38 AVOCADO CRES, EWINGSDALE</td>\n",
       "      <td>2481.0</td>\n",
       "      <td>house</td>\n",
       "      <td>NaN</td>\n",
       "      <td>NaN</td>\n",
       "      <td>3420.000</td>\n",
       "      <td>M</td>\n",
       "      <td>2023-11-10</td>\n",
       "      <td>2024-02-15</td>\n",
       "      <td>R5</td>\n",
       "      <td>R</td>\n",
       "      <td>RESIDENCE</td>\n",
       "      <td>25/806200</td>\n",
       "    </tr>\n",
       "    <tr>\n",
       "      <th>2</th>\n",
       "      <td>1676023.0</td>\n",
       "      <td>2024-02-19</td>\n",
       "      <td>BYRON</td>\n",
       "      <td>1500000.0</td>\n",
       "      <td>20 ROYAL AVE, SOUTH GOLDEN BEACH</td>\n",
       "      <td>2483.0</td>\n",
       "      <td>house</td>\n",
       "      <td>NaN</td>\n",
       "      <td>NaN</td>\n",
       "      <td>727.200</td>\n",
       "      <td>M</td>\n",
       "      <td>2023-11-17</td>\n",
       "      <td>2024-02-09</td>\n",
       "      <td>R2</td>\n",
       "      <td>R</td>\n",
       "      <td>RESIDENCE</td>\n",
       "      <td>213/31166</td>\n",
       "    </tr>\n",
       "    <tr>\n",
       "      <th>3</th>\n",
       "      <td>1670957.0</td>\n",
       "      <td>2024-02-19</td>\n",
       "      <td>BYRON</td>\n",
       "      <td>985000.0</td>\n",
       "      <td>2 INDERWONG AVE, OCEAN SHORES</td>\n",
       "      <td>2483.0</td>\n",
       "      <td>house</td>\n",
       "      <td>NaN</td>\n",
       "      <td>NaN</td>\n",
       "      <td>992.700</td>\n",
       "      <td>M</td>\n",
       "      <td>2023-09-27</td>\n",
       "      <td>2024-02-12</td>\n",
       "      <td>R2</td>\n",
       "      <td>R</td>\n",
       "      <td>RESIDENCE</td>\n",
       "      <td>1101/241074</td>\n",
       "    </tr>\n",
       "    <tr>\n",
       "      <th>4</th>\n",
       "      <td>1673846.0</td>\n",
       "      <td>2024-02-19</td>\n",
       "      <td>BYRON</td>\n",
       "      <td>720000.0</td>\n",
       "      <td>52 NAROOMA DR, OCEAN SHORES</td>\n",
       "      <td>2483.0</td>\n",
       "      <td>house</td>\n",
       "      <td>NaN</td>\n",
       "      <td>NaN</td>\n",
       "      <td>771.400</td>\n",
       "      <td>M</td>\n",
       "      <td>2024-02-06</td>\n",
       "      <td>2024-02-09</td>\n",
       "      <td>R2</td>\n",
       "      <td>R</td>\n",
       "      <td>RESIDENCE</td>\n",
       "      <td>337/238455</td>\n",
       "    </tr>\n",
       "  </tbody>\n",
       "</table>\n",
       "</div>"
      ],
      "text/plain": [
       "   property_id download_date council_name  purchase_price  \\\n",
       "0    1672682.0    2024-02-19        BYRON       1120000.0   \n",
       "1    1665192.0    2024-02-19        BYRON       2800000.0   \n",
       "2    1676023.0    2024-02-19        BYRON       1500000.0   \n",
       "3    1670957.0    2024-02-19        BYRON        985000.0   \n",
       "4    1673846.0    2024-02-19        BYRON        720000.0   \n",
       "\n",
       "                            address  post_code property_type  \\\n",
       "0      129 MAFEKING RD, GOONENGERRY     2482.0         house   \n",
       "1       38 AVOCADO CRES, EWINGSDALE     2481.0         house   \n",
       "2  20 ROYAL AVE, SOUTH GOLDEN BEACH     2483.0         house   \n",
       "3     2 INDERWONG AVE, OCEAN SHORES     2483.0         house   \n",
       "4       52 NAROOMA DR, OCEAN SHORES     2483.0         house   \n",
       "\n",
       "   strata_lot_number property_name      area area_type contract_date  \\\n",
       "0                NaN           NaN     3.419         H    2024-01-19   \n",
       "1                NaN           NaN  3420.000         M    2023-11-10   \n",
       "2                NaN           NaN   727.200         M    2023-11-17   \n",
       "3                NaN           NaN   992.700         M    2023-09-27   \n",
       "4                NaN           NaN   771.400         M    2024-02-06   \n",
       "\n",
       "  settlement_date zoning nature_of_property primary_purpose legal_description  \n",
       "0      2024-02-15    RU2                  R       RESIDENCE          1/607703  \n",
       "1      2024-02-15     R5                  R       RESIDENCE         25/806200  \n",
       "2      2024-02-09     R2                  R       RESIDENCE         213/31166  \n",
       "3      2024-02-12     R2                  R       RESIDENCE       1101/241074  \n",
       "4      2024-02-09     R2                  R       RESIDENCE        337/238455  "
      ]
     },
     "execution_count": 3,
     "metadata": {},
     "output_type": "execute_result"
    }
   ],
   "source": [
    "#removing the index column, which was created in the last save\n",
    "property_data.drop(columns = 'Unnamed: 0', inplace = True)\n",
    "\n",
    "#viewing the first 5 rows and columns to get an idea of the idea\n",
    "property_data.head()"
   ]
  },
  {
   "attachments": {
    "image.png": {
     "image/png": "[encoded data removed]"
    }
   },
   "cell_type": "markdown",
   "id": "108296fc",
   "metadata": {},
   "source": [
    "![image.png](attachment:image.png)\n",
    "\n",
    "Source: https://www.valuergeneral.nsw.gov.au/__data/assets/pdf_file/0016/216403/Property_Sales_Data_File_-_Data_Elements_V3.pdf "
   ]
  },
  {
   "cell_type": "code",
   "execution_count": 4,
   "id": "4a6084be",
   "metadata": {},
   "outputs": [
    {
     "name": "stdout",
     "output_type": "stream",
     "text": [
      "<class 'pandas.core.frame.DataFrame'>\n",
      "RangeIndex: 638043 entries, 0 to 638042\n",
      "Data columns (total 17 columns):\n",
      " #   Column              Non-Null Count   Dtype  \n",
      "---  ------              --------------   -----  \n",
      " 0   property_id         637961 non-null  float64\n",
      " 1   download_date       638043 non-null  object \n",
      " 2   council_name        638043 non-null  object \n",
      " 3   purchase_price      638043 non-null  float64\n",
      " 4   address             638043 non-null  object \n",
      " 5   post_code           638038 non-null  float64\n",
      " 6   property_type       638043 non-null  object \n",
      " 7   strata_lot_number   213012 non-null  float64\n",
      " 8   property_name       20179 non-null   object \n",
      " 9   area                502902 non-null  float64\n",
      " 10  area_type           502902 non-null  object \n",
      " 11  contract_date       638040 non-null  object \n",
      " 12  settlement_date     638043 non-null  object \n",
      " 13  zoning              394573 non-null  object \n",
      " 14  nature_of_property  638043 non-null  object \n",
      " 15  primary_purpose     637988 non-null  object \n",
      " 16  legal_description   638043 non-null  object \n",
      "dtypes: float64(5), object(12)\n",
      "memory usage: 82.8+ MB\n"
     ]
    }
   ],
   "source": [
    "#checking the variable types of each of the columns\n",
    "property_data.info()"
   ]
  },
  {
   "cell_type": "code",
   "execution_count": 5,
   "id": "b21cca8b",
   "metadata": {
    "scrolled": false
   },
   "outputs": [
    {
     "data": {
      "text/plain": [
       "property_id               82\n",
       "download_date              0\n",
       "council_name               0\n",
       "purchase_price             0\n",
       "address                    0\n",
       "post_code                  5\n",
       "property_type              0\n",
       "strata_lot_number     425031\n",
       "property_name         617864\n",
       "area                  135141\n",
       "area_type             135141\n",
       "contract_date              3\n",
       "settlement_date            0\n",
       "zoning                243470\n",
       "nature_of_property         0\n",
       "primary_purpose           55\n",
       "legal_description          0\n",
       "dtype: int64"
      ]
     },
     "execution_count": 5,
     "metadata": {},
     "output_type": "execute_result"
    }
   ],
   "source": [
    "#printing the null values for each column\n",
    "property_data.isnull().sum()"
   ]
  },
  {
   "cell_type": "markdown",
   "id": "abd09ec2",
   "metadata": {},
   "source": [
    "There are a lot of null values, with the highest number of null values being in the strata_lot_number column."
   ]
  },
  {
   "cell_type": "code",
   "execution_count": 6,
   "id": "5e8ee64a",
   "metadata": {},
   "outputs": [
    {
     "data": {
      "image/png": "[encoded data removed]",
      "text/plain": [
       "<Figure size 1000x600 with 1 Axes>"
      ]
     },
     "metadata": {},
     "output_type": "display_data"
    }
   ],
   "source": [
    "# Setting up the plotting\n",
    "fig, ax1 = plt.subplots(figsize=(10, 6))\n",
    "\n",
    "#labels and titles\n",
    "ax1.set_xlabel('purchase price')\n",
    "ax1.set_ylabel('area', color='tab:blue')\n",
    "plt.title('relationship between area and purchase price')\n",
    "\n",
    "plt.scatter(property_data['purchase_price'], property_data['area'])\n",
    "\n",
    "plt.show()"
   ]
  },
  {
   "cell_type": "markdown",
   "id": "f9b430e8",
   "metadata": {},
   "source": [
    "## Data Cleaning"
   ]
  },
  {
   "cell_type": "markdown",
   "id": "55e3cf4b",
   "metadata": {},
   "source": [
    "Initially I tried converting the date columns to datetime datatype, but was getting errors while doing that. Below is a summary of which date columns were getting the errors and what the errors were."
   ]
  },
  {
   "cell_type": "code",
   "execution_count": 7,
   "id": "a425fc41",
   "metadata": {},
   "outputs": [
    {
     "name": "stdout",
     "output_type": "stream",
     "text": [
      "error in date column: contract_date\n"
     ]
    }
   ],
   "source": [
    "#columns that have dates in it and will be converted\n",
    "date_columns = ['contract_date', 'settlement_date', 'download_date']\n",
    "\n",
    "#column name and what the error was will be saved in this error dictionary\n",
    "error = {}\n",
    "\n",
    "\n",
    "for date_column in date_columns:\n",
    "    \n",
    "    #try converting the column to pandas datetime datatype, if it fails fo to except\n",
    "    try:\n",
    "        property_data[date_column] = pd.to_datetime(property_data[date_column])\n",
    "        \n",
    "    #the conversion failed and the code will enter here\n",
    "    #error is saved in variable 'e', which is later saved in the error dictionary along with column name\n",
    "    except Exception as e:\n",
    "        error[date_column] = e\n",
    "        print(f'error in date column: {date_column}')"
   ]
  },
  {
   "cell_type": "code",
   "execution_count": 8,
   "id": "6e19caca",
   "metadata": {},
   "outputs": [
    {
     "name": "stdout",
     "output_type": "stream",
     "text": [
      "Out of bounds nanosecond timestamp: 1024-01-05 00:00:00, at position 341. You might want to try:\n",
      "    - passing `format` if your strings have a consistent format;\n",
      "    - passing `format='ISO8601'` if your strings are all ISO8601 but not necessarily in exactly the same format;\n",
      "    - passing `format='mixed'`, and the format will be inferred for each element individually. You might want to use `dayfirst` alongside this.\n"
     ]
    }
   ],
   "source": [
    "#print the error that caused the issue\n",
    "print(error['contract_date'])"
   ]
  },
  {
   "cell_type": "markdown",
   "id": "7aed63d5",
   "metadata": {},
   "source": [
    "Seems like a date from year 1024 was passed in contract date, and pandas only support last 570 or so years. But obviously this probably was an error while inputting the data. Lets try to see all the rows that have some sort of error."
   ]
  },
  {
   "cell_type": "code",
   "execution_count": 9,
   "id": "33d03f8b",
   "metadata": {},
   "outputs": [],
   "source": [
    "#unlike the last conversion I have added errors = 'coerce' parameter. \n",
    "#as a result the error rows will be converted to NaT values (time not available)\n",
    "property_data['contract_date_cleaned'] = pd.to_datetime(property_data['contract_date'], errors = 'coerce')"
   ]
  },
  {
   "cell_type": "code",
   "execution_count": 10,
   "id": "aa7f1c22",
   "metadata": {},
   "outputs": [
    {
     "data": {
      "text/html": [
       "<div>\n",
       "<style scoped>\n",
       "    .dataframe tbody tr th:only-of-type {\n",
       "        vertical-align: middle;\n",
       "    }\n",
       "\n",
       "    .dataframe tbody tr th {\n",
       "        vertical-align: top;\n",
       "    }\n",
       "\n",
       "    .dataframe thead th {\n",
       "        text-align: right;\n",
       "    }\n",
       "</style>\n",
       "<table border=\"1\" class=\"dataframe\">\n",
       "  <thead>\n",
       "    <tr style=\"text-align: right;\">\n",
       "      <th></th>\n",
       "      <th>contract_date_cleaned</th>\n",
       "      <th>contract_date</th>\n",
       "    </tr>\n",
       "  </thead>\n",
       "  <tbody>\n",
       "    <tr>\n",
       "      <th>1462</th>\n",
       "      <td>NaT</td>\n",
       "      <td>1024-01-05</td>\n",
       "    </tr>\n",
       "    <tr>\n",
       "      <th>7113</th>\n",
       "      <td>NaT</td>\n",
       "      <td>1023-11-20</td>\n",
       "    </tr>\n",
       "    <tr>\n",
       "      <th>76178</th>\n",
       "      <td>NaT</td>\n",
       "      <td>1022-10-04</td>\n",
       "    </tr>\n",
       "    <tr>\n",
       "      <th>97222</th>\n",
       "      <td>NaT</td>\n",
       "      <td>1022-12-23</td>\n",
       "    </tr>\n",
       "    <tr>\n",
       "      <th>99173</th>\n",
       "      <td>NaT</td>\n",
       "      <td>1022-05-05</td>\n",
       "    </tr>\n",
       "    <tr>\n",
       "      <th>99656</th>\n",
       "      <td>NaT</td>\n",
       "      <td>1022-10-05</td>\n",
       "    </tr>\n",
       "    <tr>\n",
       "      <th>122376</th>\n",
       "      <td>NaT</td>\n",
       "      <td>0222-04-29</td>\n",
       "    </tr>\n",
       "    <tr>\n",
       "      <th>130233</th>\n",
       "      <td>NaT</td>\n",
       "      <td>0225-05-22</td>\n",
       "    </tr>\n",
       "    <tr>\n",
       "      <th>172890</th>\n",
       "      <td>NaT</td>\n",
       "      <td>0222-02-01</td>\n",
       "    </tr>\n",
       "    <tr>\n",
       "      <th>197624</th>\n",
       "      <td>NaT</td>\n",
       "      <td>1022-06-08</td>\n",
       "    </tr>\n",
       "    <tr>\n",
       "      <th>205941</th>\n",
       "      <td>NaT</td>\n",
       "      <td>1022-02-03</td>\n",
       "    </tr>\n",
       "    <tr>\n",
       "      <th>234051</th>\n",
       "      <td>NaT</td>\n",
       "      <td>1023-04-24</td>\n",
       "    </tr>\n",
       "    <tr>\n",
       "      <th>239963</th>\n",
       "      <td>NaT</td>\n",
       "      <td>1018-10-26</td>\n",
       "    </tr>\n",
       "    <tr>\n",
       "      <th>245395</th>\n",
       "      <td>NaT</td>\n",
       "      <td>1022-11-02</td>\n",
       "    </tr>\n",
       "    <tr>\n",
       "      <th>247790</th>\n",
       "      <td>NaT</td>\n",
       "      <td>1023-11-28</td>\n",
       "    </tr>\n",
       "    <tr>\n",
       "      <th>252641</th>\n",
       "      <td>NaT</td>\n",
       "      <td>1023-08-10</td>\n",
       "    </tr>\n",
       "    <tr>\n",
       "      <th>281333</th>\n",
       "      <td>NaT</td>\n",
       "      <td>1012-01-23</td>\n",
       "    </tr>\n",
       "    <tr>\n",
       "      <th>306168</th>\n",
       "      <td>NaT</td>\n",
       "      <td>0222-12-20</td>\n",
       "    </tr>\n",
       "    <tr>\n",
       "      <th>311358</th>\n",
       "      <td>NaT</td>\n",
       "      <td>1023-09-27</td>\n",
       "    </tr>\n",
       "    <tr>\n",
       "      <th>313572</th>\n",
       "      <td>NaT</td>\n",
       "      <td>1023-09-27</td>\n",
       "    </tr>\n",
       "    <tr>\n",
       "      <th>385169</th>\n",
       "      <td>NaT</td>\n",
       "      <td>1023-05-11</td>\n",
       "    </tr>\n",
       "    <tr>\n",
       "      <th>462689</th>\n",
       "      <td>NaT</td>\n",
       "      <td>0212-03-21</td>\n",
       "    </tr>\n",
       "    <tr>\n",
       "      <th>512308</th>\n",
       "      <td>NaT</td>\n",
       "      <td>0201-09-22</td>\n",
       "    </tr>\n",
       "    <tr>\n",
       "      <th>560284</th>\n",
       "      <td>NaT</td>\n",
       "      <td>1021-02-04</td>\n",
       "    </tr>\n",
       "    <tr>\n",
       "      <th>573656</th>\n",
       "      <td>NaT</td>\n",
       "      <td>1021-11-04</td>\n",
       "    </tr>\n",
       "    <tr>\n",
       "      <th>576886</th>\n",
       "      <td>NaT</td>\n",
       "      <td>1021-05-22</td>\n",
       "    </tr>\n",
       "    <tr>\n",
       "      <th>628222</th>\n",
       "      <td>NaT</td>\n",
       "      <td>1021-10-02</td>\n",
       "    </tr>\n",
       "  </tbody>\n",
       "</table>\n",
       "</div>"
      ],
      "text/plain": [
       "       contract_date_cleaned contract_date\n",
       "1462                     NaT    1024-01-05\n",
       "7113                     NaT    1023-11-20\n",
       "76178                    NaT    1022-10-04\n",
       "97222                    NaT    1022-12-23\n",
       "99173                    NaT    1022-05-05\n",
       "99656                    NaT    1022-10-05\n",
       "122376                   NaT    0222-04-29\n",
       "130233                   NaT    0225-05-22\n",
       "172890                   NaT    0222-02-01\n",
       "197624                   NaT    1022-06-08\n",
       "205941                   NaT    1022-02-03\n",
       "234051                   NaT    1023-04-24\n",
       "239963                   NaT    1018-10-26\n",
       "245395                   NaT    1022-11-02\n",
       "247790                   NaT    1023-11-28\n",
       "252641                   NaT    1023-08-10\n",
       "281333                   NaT    1012-01-23\n",
       "306168                   NaT    0222-12-20\n",
       "311358                   NaT    1023-09-27\n",
       "313572                   NaT    1023-09-27\n",
       "385169                   NaT    1023-05-11\n",
       "462689                   NaT    0212-03-21\n",
       "512308                   NaT    0201-09-22\n",
       "560284                   NaT    1021-02-04\n",
       "573656                   NaT    1021-11-04\n",
       "576886                   NaT    1021-05-22\n",
       "628222                   NaT    1021-10-02"
      ]
     },
     "execution_count": 10,
     "metadata": {},
     "output_type": "execute_result"
    }
   ],
   "source": [
    "#rows where errors are present, and was converted to null values\n",
    "# but the problem is that the originial contract-date column itself had null values\n",
    "#so errors will be in rows where contract_date is not null but contract_date_cleaned is null\n",
    "clenaed_contract_null_cond = property_data['contract_date_cleaned'].isnull()\n",
    "raw_contract_not_null_cond = property_data['contract_date'].notnull()\n",
    "contract_issues_cond = clenaed_contract_null_cond & raw_contract_not_null_cond\n",
    "\n",
    "\n",
    "#printing the error rows\n",
    "contract_issues = property_data[['contract_date_cleaned', 'contract_date']][contract_issues_cond]\n",
    "contract_issues"
   ]
  },
  {
   "cell_type": "markdown",
   "id": "9e251020",
   "metadata": {},
   "source": [
    "These rows are clearly garbage data. and there is no way for me to know what the actual dates were. Moreover these rows constitute only a small portion of the whole dataset. Hence, I will be removing these rows."
   ]
  },
  {
   "cell_type": "code",
   "execution_count": 11,
   "id": "43fe93b2",
   "metadata": {},
   "outputs": [
    {
     "name": "stdout",
     "output_type": "stream",
     "text": [
      "length_before_na_drop: 638043\n",
      "length_after_na_drop: 638013\n",
      "total_na_drops: 30\n",
      "percentage of rows with date issues: 0.005%\n"
     ]
    }
   ],
   "source": [
    "#how many rows where this date issue is present = total_na_drops\n",
    "length_before_na_drop = len(property_data)\n",
    "length_after_na_drop = len(property_data[['contract_date_cleaned']].dropna())\n",
    "total_na_drops = length_before_na_drop - length_after_na_drop\n",
    "\n",
    "print(f'length_before_na_drop: {length_before_na_drop}')\n",
    "print(f'length_after_na_drop: {length_after_na_drop}')\n",
    "print(f'total_na_drops: {total_na_drops}')\n",
    "print(f'percentage of rows with date issues: {round(total_na_drops/length_before_na_drop*100, 3)}%')"
   ]
  },
  {
   "cell_type": "markdown",
   "id": "085be3e9",
   "metadata": {},
   "source": [
    "length_before_na_drop: **638,043**\n",
    "\n",
    "length_after_na_drop: **638,013**\n",
    "\n",
    "Only 0.005% rows will be dropped"
   ]
  },
  {
   "cell_type": "code",
   "execution_count": 12,
   "id": "d19774ee",
   "metadata": {},
   "outputs": [
    {
     "name": "stdout",
     "output_type": "stream",
     "text": [
      "(638043, 18)\n",
      "(638013, 18)\n"
     ]
    }
   ],
   "source": [
    "#dropping the rows with the mentioned errors\n",
    "print(property_data.shape)\n",
    "\n",
    "property_data = property_data[property_data['contract_date_cleaned'].notnull()]\n",
    "\n",
    "print(property_data.shape)"
   ]
  },
  {
   "cell_type": "markdown",
   "id": "d75c5f7a",
   "metadata": {},
   "source": [
    "#### Cleaning Null values in are column"
   ]
  },
  {
   "cell_type": "code",
   "execution_count": 13,
   "id": "fe89f3b9",
   "metadata": {},
   "outputs": [],
   "source": [
    "property_data.loc[property_data['area'].isna(), 'area'] = property_data['area'].mean()"
   ]
  },
  {
   "cell_type": "markdown",
   "id": "38f3b105",
   "metadata": {},
   "source": [
    "## Data Preparation"
   ]
  },
  {
   "cell_type": "markdown",
   "id": "4699f644",
   "metadata": {},
   "source": [
    "### Settlement Time"
   ]
  },
  {
   "cell_type": "markdown",
   "id": "c72d2ae0",
   "metadata": {},
   "source": [
    "Contract date is the date when the legal contract between the two parties were exchanged, and settlement date is when the contract was finally settled by transfer of ownership (refer to the image in previous section). Here I will be using the difference between settlement and contract period in the model. "
   ]
  },
  {
   "cell_type": "code",
   "execution_count": 14,
   "id": "521889c6",
   "metadata": {},
   "outputs": [
    {
     "name": "stdout",
     "output_type": "stream",
     "text": [
      "count                         638013\n",
      "mean     107 days 22:02:57.096077978\n",
      "std      410 days 05:15:55.427495524\n",
      "min                  0 days 00:00:00\n",
      "25%                 35 days 00:00:00\n",
      "50%                 43 days 00:00:00\n",
      "75%                 71 days 00:00:00\n",
      "max              44691 days 00:00:00\n",
      "Name: settlement_time, dtype: object\n"
     ]
    },
    {
     "data": {
      "text/plain": [
       "534167       0 days\n",
       "602100       0 days\n",
       "341532       0 days\n",
       "341568       0 days\n",
       "341581       0 days\n",
       "            ...    \n",
       "24156    37902 days\n",
       "197179   38020 days\n",
       "94111    38084 days\n",
       "565824   44453 days\n",
       "363882   44691 days\n",
       "Name: settlement_time, Length: 638013, dtype: timedelta64[ns]"
      ]
     },
     "execution_count": 14,
     "metadata": {},
     "output_type": "execute_result"
    }
   ],
   "source": [
    "#calcualtes the difference between settlement date and contract date\n",
    "#then saves the difference in days in settlement_time column\n",
    "property_data['settlement_time'] = property_data['settlement_date'] - property_data['contract_date_cleaned']\n",
    "\n",
    "print(property_data['settlement_time'].describe())\n",
    "property_data['settlement_time'].sort_values()"
   ]
  },
  {
   "cell_type": "markdown",
   "id": "da983a6e",
   "metadata": {},
   "source": [
    "These output shows that generally 4 months have been taken to settle the contracts. But some contracts have taken over 40 thousand days to settle. There could have been very few cases out of million where a contract was made decades ago and contract itself stated that it will be transferred after decades. Or these are actually garbage data.\n",
    "\n",
    "I am not going to do anything about this and keep the settlement period as it is due to my lack of knowledge and lack of information in the webstie."
   ]
  },
  {
   "cell_type": "code",
   "execution_count": 15,
   "id": "9a515fb8",
   "metadata": {},
   "outputs": [],
   "source": [
    "#converting days to seconds to pass to the model\n",
    "property_data['settlement_seconds'] = [timedelta.total_seconds() for timedelta in property_data['settlement_time']]"
   ]
  },
  {
   "cell_type": "code",
   "execution_count": 16,
   "id": "06635f3a",
   "metadata": {},
   "outputs": [
    {
     "data": {
      "text/plain": [
       "strata_lot_number\n",
       "1.0       17435\n",
       "2.0       17379\n",
       "3.0       11984\n",
       "4.0       10602\n",
       "5.0        8843\n",
       "          ...  \n",
       "989.0         1\n",
       "1002.0        1\n",
       "840.0         1\n",
       "695.0         1\n",
       "786.0         1\n",
       "Name: count, Length: 830, dtype: int64"
      ]
     },
     "execution_count": 16,
     "metadata": {},
     "output_type": "execute_result"
    }
   ],
   "source": [
    "property_data[property_data['strata_lot_number'].notnull()]['strata_lot_number'].value_counts()"
   ]
  },
  {
   "cell_type": "code",
   "execution_count": 17,
   "id": "9d8e7bc1",
   "metadata": {},
   "outputs": [],
   "source": [
    "#keeping the prepared data in model data dataframe\n",
    "model_data = property_data.drop(columns = ['strata_lot_number', 'property_id', 'property_name'])"
   ]
  },
  {
   "cell_type": "markdown",
   "id": "ed11a837",
   "metadata": {},
   "source": [
    "Strata lot numbers are arbitrary numbers given to each property inside a strata, and does not carry any information about the specification of the property. Hence I will remove it before running model. For the similar reason dropped property_id and property_name as well."
   ]
  },
  {
   "cell_type": "code",
   "execution_count": 18,
   "id": "33416ed3",
   "metadata": {},
   "outputs": [
    {
     "data": {
      "text/plain": [
       "legal_description\n",
       "70/SP106623    51\n",
       "69/SP106623    50\n",
       "65/SP106623    50\n",
       "74/SP106623    49\n",
       "72/SP106623    35\n",
       "               ..\n",
       "7/SP12272       1\n",
       "12/SP1456       1\n",
       "62/SP2245       1\n",
       "17/SP2245       1\n",
       "102//9998       1\n",
       "Name: count, Length: 602284, dtype: int64"
      ]
     },
     "execution_count": 18,
     "metadata": {},
     "output_type": "execute_result"
    }
   ],
   "source": [
    "model_data['legal_description'].value_counts()"
   ]
  },
  {
   "cell_type": "code",
   "execution_count": 19,
   "id": "d7ea612e",
   "metadata": {},
   "outputs": [],
   "source": [
    "#dropping legal description column as the website did not have any details about this\n",
    "model_data = model_data.drop(columns = 'legal_description')"
   ]
  },
  {
   "cell_type": "code",
   "execution_count": 20,
   "id": "675e518f",
   "metadata": {},
   "outputs": [
    {
     "name": "stdout",
     "output_type": "stream",
     "text": [
      "zoning\n",
      "R2     194370\n",
      "R1      81113\n",
      "R3      25760\n",
      "RU1     17697\n",
      "RU5     14714\n",
      "Name: count, dtype: int64\n"
     ]
    },
    {
     "data": {
      "text/plain": [
       "57"
      ]
     },
     "execution_count": 20,
     "metadata": {},
     "output_type": "execute_result"
    }
   ],
   "source": [
    "#printing the variables and counts for zoning\n",
    "print(model_data['zoning'].value_counts().head())\n",
    "\n",
    "#how many unique variables are in zoning\n",
    "model_data['zoning'].nunique()"
   ]
  },
  {
   "cell_type": "markdown",
   "id": "aab4e896",
   "metadata": {},
   "source": [
    "57 are too many categories to be passed to the model. Hence removing this column as well."
   ]
  },
  {
   "cell_type": "code",
   "execution_count": 21,
   "id": "521a853a",
   "metadata": {},
   "outputs": [
    {
     "data": {
      "text/plain": [
       "post_code\n",
       "2765.0    12815\n",
       "2155.0     7297\n",
       "2170.0     6966\n",
       "2179.0     6172\n",
       "2570.0     5910\n",
       "          ...  \n",
       "2661.0        3\n",
       "2678.0        2\n",
       "2237.0        1\n",
       "2432.0        1\n",
       "2059.0        1\n",
       "Name: count, Length: 621, dtype: int64"
      ]
     },
     "execution_count": 21,
     "metadata": {},
     "output_type": "execute_result"
    }
   ],
   "source": [
    "model_data['post_code'].value_counts()"
   ]
  },
  {
   "cell_type": "markdown",
   "id": "cf694e88",
   "metadata": {},
   "source": [
    "**Though postcode is a float type here, its actually not a continuous variable. As the difference between post 1 and 5 is not 4. Rather each number denotes a particular category**"
   ]
  },
  {
   "cell_type": "code",
   "execution_count": 22,
   "id": "8b4a5f5a",
   "metadata": {},
   "outputs": [
    {
     "data": {
      "text/plain": [
       "council_name\n",
       "BLACKTOWN               30648\n",
       "CENTRAL COAST           26695\n",
       "CITY OF SYDNEY          23022\n",
       "CITY OF PARRAMATTA      20989\n",
       "CANTERBURY-BANKSTOWN    18109\n",
       "                        ...  \n",
       "BALRANALD                 224\n",
       "CENTRAL DARLING           219\n",
       "BREWARRINA                121\n",
       "UNINCORPORATED AREA        56\n",
       "211                         1\n",
       "Name: count, Length: 130, dtype: int64"
      ]
     },
     "execution_count": 22,
     "metadata": {},
     "output_type": "execute_result"
    }
   ],
   "source": [
    "model_data['council_name'].value_counts()"
   ]
  },
  {
   "cell_type": "code",
   "execution_count": 23,
   "id": "2831864f",
   "metadata": {},
   "outputs": [
    {
     "data": {
      "text/plain": [
       "address\n",
       "117 BATHURST ST, SYDNEY                465\n",
       "5 MANCHESTER DR, SCHOFIELDS            166\n",
       "38 HANNELL ST, WICKHAM                 136\n",
       "125 JERRALONG DR, SCHOFIELDS           105\n",
       "71 MACQUARIE ST, SYDNEY                 93\n",
       "                                      ... \n",
       "155 GEORGE ST, ERSKINEVILLE              1\n",
       "59/3 ERSKINEVILLE RD, NEWTOWN            1\n",
       "317/6 CRESCENT ST, REDFERN               1\n",
       "5/233 DARLINGHURST RD, DARLINGHURST      1\n",
       "2 PERTH AVE, LINDFIELD                   1\n",
       "Name: count, Length: 590837, dtype: int64"
      ]
     },
     "execution_count": 23,
     "metadata": {},
     "output_type": "execute_result"
    }
   ],
   "source": [
    "model_data['address'].value_counts()"
   ]
  },
  {
   "cell_type": "markdown",
   "id": "f9298bb1",
   "metadata": {},
   "source": [
    "For the same reason as zoning column, removing post_code, address, and council_name columns as well. Moreover there are other columns that gives us geographical details which is covered in the next sectiion."
   ]
  },
  {
   "cell_type": "code",
   "execution_count": 24,
   "id": "d7631ae4",
   "metadata": {},
   "outputs": [],
   "source": [
    "model_data = model_data.drop(columns = ['zoning', 'post_code', 'address', 'council_name'])"
   ]
  },
  {
   "cell_type": "code",
   "execution_count": 25,
   "id": "265b9a46",
   "metadata": {},
   "outputs": [],
   "source": [
    "#finally dropping the contract and settlement dates as i will only be using the difference between these two dates\n",
    "model_data = model_data.drop(columns = ['contract_date', 'settlement_date', 'contract_date_cleaned', 'download_date', 'settlement_time'])"
   ]
  },
  {
   "cell_type": "code",
   "execution_count": 26,
   "id": "64361179",
   "metadata": {},
   "outputs": [
    {
     "data": {
      "text/html": [
       "<div>\n",
       "<style scoped>\n",
       "    .dataframe tbody tr th:only-of-type {\n",
       "        vertical-align: middle;\n",
       "    }\n",
       "\n",
       "    .dataframe tbody tr th {\n",
       "        vertical-align: top;\n",
       "    }\n",
       "\n",
       "    .dataframe thead th {\n",
       "        text-align: right;\n",
       "    }\n",
       "</style>\n",
       "<table border=\"1\" class=\"dataframe\">\n",
       "  <thead>\n",
       "    <tr style=\"text-align: right;\">\n",
       "      <th></th>\n",
       "      <th>purchase_price</th>\n",
       "      <th>property_type</th>\n",
       "      <th>area</th>\n",
       "      <th>area_type</th>\n",
       "      <th>nature_of_property</th>\n",
       "      <th>primary_purpose</th>\n",
       "      <th>settlement_seconds</th>\n",
       "    </tr>\n",
       "  </thead>\n",
       "  <tbody>\n",
       "    <tr>\n",
       "      <th>0</th>\n",
       "      <td>1120000.0</td>\n",
       "      <td>house</td>\n",
       "      <td>3.419</td>\n",
       "      <td>H</td>\n",
       "      <td>R</td>\n",
       "      <td>RESIDENCE</td>\n",
       "      <td>2332800.0</td>\n",
       "    </tr>\n",
       "    <tr>\n",
       "      <th>1</th>\n",
       "      <td>2800000.0</td>\n",
       "      <td>house</td>\n",
       "      <td>3420.000</td>\n",
       "      <td>M</td>\n",
       "      <td>R</td>\n",
       "      <td>RESIDENCE</td>\n",
       "      <td>8380800.0</td>\n",
       "    </tr>\n",
       "    <tr>\n",
       "      <th>2</th>\n",
       "      <td>1500000.0</td>\n",
       "      <td>house</td>\n",
       "      <td>727.200</td>\n",
       "      <td>M</td>\n",
       "      <td>R</td>\n",
       "      <td>RESIDENCE</td>\n",
       "      <td>7257600.0</td>\n",
       "    </tr>\n",
       "    <tr>\n",
       "      <th>3</th>\n",
       "      <td>985000.0</td>\n",
       "      <td>house</td>\n",
       "      <td>992.700</td>\n",
       "      <td>M</td>\n",
       "      <td>R</td>\n",
       "      <td>RESIDENCE</td>\n",
       "      <td>11923200.0</td>\n",
       "    </tr>\n",
       "    <tr>\n",
       "      <th>4</th>\n",
       "      <td>720000.0</td>\n",
       "      <td>house</td>\n",
       "      <td>771.400</td>\n",
       "      <td>M</td>\n",
       "      <td>R</td>\n",
       "      <td>RESIDENCE</td>\n",
       "      <td>259200.0</td>\n",
       "    </tr>\n",
       "  </tbody>\n",
       "</table>\n",
       "</div>"
      ],
      "text/plain": [
       "   purchase_price property_type      area area_type nature_of_property  \\\n",
       "0       1120000.0         house     3.419         H                  R   \n",
       "1       2800000.0         house  3420.000         M                  R   \n",
       "2       1500000.0         house   727.200         M                  R   \n",
       "3        985000.0         house   992.700         M                  R   \n",
       "4        720000.0         house   771.400         M                  R   \n",
       "\n",
       "  primary_purpose  settlement_seconds  \n",
       "0       RESIDENCE           2332800.0  \n",
       "1       RESIDENCE           8380800.0  \n",
       "2       RESIDENCE           7257600.0  \n",
       "3       RESIDENCE          11923200.0  \n",
       "4       RESIDENCE            259200.0  "
      ]
     },
     "execution_count": 26,
     "metadata": {},
     "output_type": "execute_result"
    }
   ],
   "source": [
    "model_data.head()"
   ]
  },
  {
   "cell_type": "markdown",
   "id": "e5389eee",
   "metadata": {},
   "source": [
    "### Label Encoding"
   ]
  },
  {
   "cell_type": "markdown",
   "id": "b1100fdf",
   "metadata": {},
   "source": [
    "**Labelling all the categorical variables that have low number of categories**"
   ]
  },
  {
   "cell_type": "code",
   "execution_count": 27,
   "id": "2a050ecc",
   "metadata": {},
   "outputs": [],
   "source": [
    "#label encoder will be used to encode categorical variables into 0 and 1, 1 will be in rows where its true\n",
    "from sklearn import preprocessing\n",
    "le = preprocessing.LabelEncoder()"
   ]
  },
  {
   "cell_type": "code",
   "execution_count": 28,
   "id": "698d9120",
   "metadata": {},
   "outputs": [
    {
     "data": {
      "text/plain": [
       "primary_purpose\n",
       "RESIDENCE         541771\n",
       "VACANT LAND        59056\n",
       "COMMERCIAL         16711\n",
       "FARM               10720\n",
       "WAREHOUSE           2544\n",
       "                   ...  \n",
       "COMMERCIAL UNI         1\n",
       "UNINHABITABLE          1\n",
       "PART BUILT             1\n",
       "EXISTING               1\n",
       "SCHOOL                 1\n",
       "Name: count, Length: 174, dtype: int64"
      ]
     },
     "execution_count": 28,
     "metadata": {},
     "output_type": "execute_result"
    }
   ],
   "source": [
    "property_data['primary_purpose'].value_counts()"
   ]
  },
  {
   "cell_type": "code",
   "execution_count": 29,
   "id": "16638d4b",
   "metadata": {},
   "outputs": [],
   "source": [
    "#naming all the purposes that are not in top 10 in terms of frequency\n",
    "primary_purpose_top10 = list(property_data['primary_purpose'].value_counts().head(10).index)\n",
    "model_data.loc[~model_data['primary_purpose'].isin(primary_purpose_top10), 'primary_purpose'] = 'other_purpose'"
   ]
  },
  {
   "cell_type": "code",
   "execution_count": 30,
   "id": "e86953dc",
   "metadata": {},
   "outputs": [
    {
     "data": {
      "text/html": [
       "<div>\n",
       "<style scoped>\n",
       "    .dataframe tbody tr th:only-of-type {\n",
       "        vertical-align: middle;\n",
       "    }\n",
       "\n",
       "    .dataframe tbody tr th {\n",
       "        vertical-align: top;\n",
       "    }\n",
       "\n",
       "    .dataframe thead th {\n",
       "        text-align: right;\n",
       "    }\n",
       "</style>\n",
       "<table border=\"1\" class=\"dataframe\">\n",
       "  <thead>\n",
       "    <tr style=\"text-align: right;\">\n",
       "      <th></th>\n",
       "      <th>purchase_price</th>\n",
       "      <th>property_type</th>\n",
       "      <th>area</th>\n",
       "      <th>area_type</th>\n",
       "      <th>nature_of_property</th>\n",
       "      <th>primary_purpose</th>\n",
       "      <th>settlement_seconds</th>\n",
       "      <th>CARSPACE</th>\n",
       "      <th>COMMERCIAL</th>\n",
       "      <th>FACTORY</th>\n",
       "      <th>FARM</th>\n",
       "      <th>MARINE BERTH</th>\n",
       "      <th>OFFICE</th>\n",
       "      <th>RESIDENCE</th>\n",
       "      <th>SHOP</th>\n",
       "      <th>VACANT LAND</th>\n",
       "      <th>WAREHOUSE</th>\n",
       "      <th>other_purpose</th>\n",
       "    </tr>\n",
       "  </thead>\n",
       "  <tbody>\n",
       "    <tr>\n",
       "      <th>0</th>\n",
       "      <td>1120000.0</td>\n",
       "      <td>house</td>\n",
       "      <td>3.419</td>\n",
       "      <td>H</td>\n",
       "      <td>R</td>\n",
       "      <td>RESIDENCE</td>\n",
       "      <td>2332800.0</td>\n",
       "      <td>0</td>\n",
       "      <td>0</td>\n",
       "      <td>0</td>\n",
       "      <td>0</td>\n",
       "      <td>0</td>\n",
       "      <td>0</td>\n",
       "      <td>1</td>\n",
       "      <td>0</td>\n",
       "      <td>0</td>\n",
       "      <td>0</td>\n",
       "      <td>0</td>\n",
       "    </tr>\n",
       "    <tr>\n",
       "      <th>1</th>\n",
       "      <td>2800000.0</td>\n",
       "      <td>house</td>\n",
       "      <td>3420.000</td>\n",
       "      <td>M</td>\n",
       "      <td>R</td>\n",
       "      <td>RESIDENCE</td>\n",
       "      <td>8380800.0</td>\n",
       "      <td>0</td>\n",
       "      <td>0</td>\n",
       "      <td>0</td>\n",
       "      <td>0</td>\n",
       "      <td>0</td>\n",
       "      <td>0</td>\n",
       "      <td>1</td>\n",
       "      <td>0</td>\n",
       "      <td>0</td>\n",
       "      <td>0</td>\n",
       "      <td>0</td>\n",
       "    </tr>\n",
       "    <tr>\n",
       "      <th>2</th>\n",
       "      <td>1500000.0</td>\n",
       "      <td>house</td>\n",
       "      <td>727.200</td>\n",
       "      <td>M</td>\n",
       "      <td>R</td>\n",
       "      <td>RESIDENCE</td>\n",
       "      <td>7257600.0</td>\n",
       "      <td>0</td>\n",
       "      <td>0</td>\n",
       "      <td>0</td>\n",
       "      <td>0</td>\n",
       "      <td>0</td>\n",
       "      <td>0</td>\n",
       "      <td>1</td>\n",
       "      <td>0</td>\n",
       "      <td>0</td>\n",
       "      <td>0</td>\n",
       "      <td>0</td>\n",
       "    </tr>\n",
       "    <tr>\n",
       "      <th>3</th>\n",
       "      <td>985000.0</td>\n",
       "      <td>house</td>\n",
       "      <td>992.700</td>\n",
       "      <td>M</td>\n",
       "      <td>R</td>\n",
       "      <td>RESIDENCE</td>\n",
       "      <td>11923200.0</td>\n",
       "      <td>0</td>\n",
       "      <td>0</td>\n",
       "      <td>0</td>\n",
       "      <td>0</td>\n",
       "      <td>0</td>\n",
       "      <td>0</td>\n",
       "      <td>1</td>\n",
       "      <td>0</td>\n",
       "      <td>0</td>\n",
       "      <td>0</td>\n",
       "      <td>0</td>\n",
       "    </tr>\n",
       "    <tr>\n",
       "      <th>4</th>\n",
       "      <td>720000.0</td>\n",
       "      <td>house</td>\n",
       "      <td>771.400</td>\n",
       "      <td>M</td>\n",
       "      <td>R</td>\n",
       "      <td>RESIDENCE</td>\n",
       "      <td>259200.0</td>\n",
       "      <td>0</td>\n",
       "      <td>0</td>\n",
       "      <td>0</td>\n",
       "      <td>0</td>\n",
       "      <td>0</td>\n",
       "      <td>0</td>\n",
       "      <td>1</td>\n",
       "      <td>0</td>\n",
       "      <td>0</td>\n",
       "      <td>0</td>\n",
       "      <td>0</td>\n",
       "    </tr>\n",
       "  </tbody>\n",
       "</table>\n",
       "</div>"
      ],
      "text/plain": [
       "   purchase_price property_type      area area_type nature_of_property  \\\n",
       "0       1120000.0         house     3.419         H                  R   \n",
       "1       2800000.0         house  3420.000         M                  R   \n",
       "2       1500000.0         house   727.200         M                  R   \n",
       "3        985000.0         house   992.700         M                  R   \n",
       "4        720000.0         house   771.400         M                  R   \n",
       "\n",
       "  primary_purpose  settlement_seconds  CARSPACE  COMMERCIAL  FACTORY  FARM  \\\n",
       "0       RESIDENCE           2332800.0         0           0        0     0   \n",
       "1       RESIDENCE           8380800.0         0           0        0     0   \n",
       "2       RESIDENCE           7257600.0         0           0        0     0   \n",
       "3       RESIDENCE          11923200.0         0           0        0     0   \n",
       "4       RESIDENCE            259200.0         0           0        0     0   \n",
       "\n",
       "   MARINE BERTH  OFFICE  RESIDENCE  SHOP  VACANT LAND  WAREHOUSE  \\\n",
       "0             0       0          1     0            0          0   \n",
       "1             0       0          1     0            0          0   \n",
       "2             0       0          1     0            0          0   \n",
       "3             0       0          1     0            0          0   \n",
       "4             0       0          1     0            0          0   \n",
       "\n",
       "   other_purpose  \n",
       "0              0  \n",
       "1              0  \n",
       "2              0  \n",
       "3              0  \n",
       "4              0  "
      ]
     },
     "execution_count": 30,
     "metadata": {},
     "output_type": "execute_result"
    }
   ],
   "source": [
    "#converting all the categories in primary purpose into a column with values 0 and 1\n",
    "model_data = pd.concat([model_data, pd.get_dummies(model_data['primary_purpose'], dtype = int)], axis = 1)\n",
    "model_data.head()"
   ]
  },
  {
   "cell_type": "code",
   "execution_count": 31,
   "id": "90fb19bf",
   "metadata": {},
   "outputs": [
    {
     "data": {
      "text/plain": [
       "nature_of_property\n",
       "R    541773\n",
       "V     59056\n",
       "3     37184\n",
       "Name: count, dtype: int64"
      ]
     },
     "execution_count": 31,
     "metadata": {},
     "output_type": "execute_result"
    }
   ],
   "source": [
    "model_data['nature_of_property'].value_counts()"
   ]
  },
  {
   "cell_type": "code",
   "execution_count": 32,
   "id": "72e5fe5f",
   "metadata": {},
   "outputs": [],
   "source": [
    "model_data['nature_of_property'] = model_data['nature_of_property'].replace({'3': 'other_nature', 'R': 'residence_nature', 'V': 'vacant_nature'})"
   ]
  },
  {
   "cell_type": "code",
   "execution_count": 33,
   "id": "fb0dbe04",
   "metadata": {},
   "outputs": [
    {
     "data": {
      "text/plain": [
       "Index(['purchase_price', 'property_type', 'area', 'area_type',\n",
       "       'nature_of_property', 'primary_purpose', 'settlement_seconds',\n",
       "       'CARSPACE', 'COMMERCIAL', 'FACTORY', 'FARM', 'MARINE BERTH', 'OFFICE',\n",
       "       'RESIDENCE', 'SHOP', 'VACANT LAND', 'WAREHOUSE', 'other_purpose',\n",
       "       'other_nature', 'residence_nature', 'vacant_nature'],\n",
       "      dtype='object')"
      ]
     },
     "execution_count": 33,
     "metadata": {},
     "output_type": "execute_result"
    }
   ],
   "source": [
    "model_data = pd.concat([model_data, pd.get_dummies(model_data['nature_of_property'], dtype = int)], axis = 1)\n",
    "model_data.columns"
   ]
  },
  {
   "cell_type": "markdown",
   "id": "46ee8533",
   "metadata": {},
   "source": [
    "Property type tells me whether a property is a house or an unit."
   ]
  },
  {
   "cell_type": "code",
   "execution_count": 34,
   "id": "ca201066",
   "metadata": {},
   "outputs": [
    {
     "data": {
      "text/plain": [
       "property_type\n",
       "house    433581\n",
       "unit     204432\n",
       "Name: count, dtype: int64"
      ]
     },
     "execution_count": 34,
     "metadata": {},
     "output_type": "execute_result"
    }
   ],
   "source": [
    "model_data['property_type'].value_counts()"
   ]
  },
  {
   "cell_type": "code",
   "execution_count": 35,
   "id": "d0d3d223",
   "metadata": {},
   "outputs": [
    {
     "data": {
      "text/plain": [
       "Index(['purchase_price', 'property_type', 'area', 'area_type',\n",
       "       'nature_of_property', 'primary_purpose', 'settlement_seconds',\n",
       "       'CARSPACE', 'COMMERCIAL', 'FACTORY', 'FARM', 'MARINE BERTH', 'OFFICE',\n",
       "       'RESIDENCE', 'SHOP', 'VACANT LAND', 'WAREHOUSE', 'other_purpose',\n",
       "       'other_nature', 'residence_nature', 'vacant_nature', 'house', 'unit'],\n",
       "      dtype='object')"
      ]
     },
     "execution_count": 35,
     "metadata": {},
     "output_type": "execute_result"
    }
   ],
   "source": [
    "model_data = pd.concat([model_data, pd.get_dummies(model_data['property_type'], dtype = int)], axis = 1)\n",
    "model_data.columns"
   ]
  },
  {
   "cell_type": "code",
   "execution_count": 36,
   "id": "f2967a98",
   "metadata": {},
   "outputs": [
    {
     "data": {
      "text/plain": [
       "area_type\n",
       "M    460690\n",
       "H     42189\n",
       "Name: count, dtype: int64"
      ]
     },
     "execution_count": 36,
     "metadata": {},
     "output_type": "execute_result"
    }
   ],
   "source": [
    "model_data['area_type'].value_counts()"
   ]
  },
  {
   "cell_type": "code",
   "execution_count": 37,
   "id": "fc9ce2fe",
   "metadata": {},
   "outputs": [
    {
     "data": {
      "text/plain": [
       "Index(['purchase_price', 'property_type', 'area', 'area_type',\n",
       "       'nature_of_property', 'primary_purpose', 'settlement_seconds',\n",
       "       'CARSPACE', 'COMMERCIAL', 'FACTORY', 'FARM', 'MARINE BERTH', 'OFFICE',\n",
       "       'RESIDENCE', 'SHOP', 'VACANT LAND', 'WAREHOUSE', 'other_purpose',\n",
       "       'other_nature', 'residence_nature', 'vacant_nature', 'house', 'unit',\n",
       "       'H', 'M'],\n",
       "      dtype='object')"
      ]
     },
     "execution_count": 37,
     "metadata": {},
     "output_type": "execute_result"
    }
   ],
   "source": [
    "model_data = pd.concat([model_data, pd.get_dummies(model_data['area_type'], dtype = int)], axis = 1)\n",
    "model_data.columns"
   ]
  },
  {
   "cell_type": "markdown",
   "id": "181300c5",
   "metadata": {},
   "source": [
    "dropping all the categorical columns that have been labeled."
   ]
  },
  {
   "cell_type": "code",
   "execution_count": 38,
   "id": "0b9d8679",
   "metadata": {},
   "outputs": [],
   "source": [
    "model_data = model_data.drop(columns = ['property_type', 'area_type', 'nature_of_property', 'primary_purpose'])"
   ]
  },
  {
   "cell_type": "code",
   "execution_count": 39,
   "id": "ec101089",
   "metadata": {},
   "outputs": [
    {
     "data": {
      "text/plain": [
       "purchase_price        0\n",
       "area                  0\n",
       "settlement_seconds    0\n",
       "CARSPACE              0\n",
       "COMMERCIAL            0\n",
       "FACTORY               0\n",
       "FARM                  0\n",
       "MARINE BERTH          0\n",
       "OFFICE                0\n",
       "RESIDENCE             0\n",
       "SHOP                  0\n",
       "VACANT LAND           0\n",
       "WAREHOUSE             0\n",
       "other_purpose         0\n",
       "other_nature          0\n",
       "residence_nature      0\n",
       "vacant_nature         0\n",
       "house                 0\n",
       "unit                  0\n",
       "H                     0\n",
       "M                     0\n",
       "dtype: int64"
      ]
     },
     "execution_count": 39,
     "metadata": {},
     "output_type": "execute_result"
    }
   ],
   "source": [
    "#now no null values remain\n",
    "model_data.isna().sum()"
   ]
  },
  {
   "cell_type": "code",
   "execution_count": 40,
   "id": "b4890984",
   "metadata": {},
   "outputs": [
    {
     "data": {
      "text/plain": [
       "(638013, 21)"
      ]
     },
     "execution_count": 40,
     "metadata": {},
     "output_type": "execute_result"
    }
   ],
   "source": [
    "model_data.shape"
   ]
  },
  {
   "cell_type": "markdown",
   "id": "cf4805b7",
   "metadata": {},
   "source": [
    "# Predictive Modeling"
   ]
  },
  {
   "cell_type": "markdown",
   "id": "70191805",
   "metadata": {},
   "source": [
    "## Correlation Analysis"
   ]
  },
  {
   "cell_type": "code",
   "execution_count": 41,
   "id": "fde3799f",
   "metadata": {},
   "outputs": [],
   "source": [
    "from sklearn.model_selection import train_test_split\n",
    "from sklearn import linear_model\n",
    "from sklearn.metrics import r2_score"
   ]
  },
  {
   "cell_type": "code",
   "execution_count": 42,
   "id": "93cda7d1",
   "metadata": {},
   "outputs": [
    {
     "data": {
      "text/plain": [
       "residence_nature     -0.062459\n",
       "RESIDENCE            -0.062457\n",
       "unit                 -0.026759\n",
       "vacant_nature        -0.026224\n",
       "VACANT LAND          -0.026224\n",
       "M                    -0.021934\n",
       "CARSPACE             -0.005964\n",
       "settlement_seconds   -0.003922\n",
       "MARINE BERTH         -0.002343\n",
       "FACTORY               0.007355\n",
       "OFFICE                0.011763\n",
       "house                 0.026759\n",
       "WAREHOUSE             0.036791\n",
       "area                  0.036858\n",
       "SHOP                  0.037065\n",
       "FARM                  0.038930\n",
       "H                     0.075505\n",
       "other_purpose         0.096104\n",
       "COMMERCIAL            0.105059\n",
       "other_nature          0.127859\n",
       "purchase_price        1.000000\n",
       "Name: purchase_price, dtype: float64"
      ]
     },
     "execution_count": 42,
     "metadata": {},
     "output_type": "execute_result"
    }
   ],
   "source": [
    "model_data.corr()['purchase_price'].sort_values()"
   ]
  },
  {
   "cell_type": "markdown",
   "id": "5adb421d",
   "metadata": {},
   "source": [
    "All variables have very low correlation against purchase price. Though all the correlation values are low, I am removing ones that are even lower compared to others (basically the middle section)"
   ]
  },
  {
   "cell_type": "markdown",
   "id": "e31cbbc5",
   "metadata": {},
   "source": [
    "## Train and test split"
   ]
  },
  {
   "cell_type": "code",
   "execution_count": 43,
   "id": "290c2ecd",
   "metadata": {},
   "outputs": [],
   "source": [
    "#all the columns with extremely low correlation and purchase price (which is the target variable) has been dropped in x \n",
    "#y has purchase price\n",
    "x = model_data.drop(columns = ['purchase_price', 'unit', 'vacant_nature', 'M', 'CARSPACE', 'settlement_seconds',\n",
    "                              'MARINE BERTH', 'FACTORY', 'OFFICE', 'house'])\n",
    "y = model_data['purchase_price']\n",
    "\n",
    "x = x.values\n",
    "y = y.values\n",
    "\n",
    "X_train, X_test, y_train, y_test = train_test_split(x, y, test_size=0.1, random_state=11)"
   ]
  },
  {
   "cell_type": "code",
   "execution_count": 44,
   "id": "d620b77f",
   "metadata": {},
   "outputs": [
    {
     "name": "stdout",
     "output_type": "stream",
     "text": [
      "(574211, 11)\n",
      "(574211,)\n",
      "(63802, 11)\n",
      "(63802,)\n"
     ]
    }
   ],
   "source": [
    "print(X_train.shape)\n",
    "print(y_train.shape)\n",
    "print(X_test.shape)\n",
    "print(y_test.shape)"
   ]
  },
  {
   "cell_type": "markdown",
   "id": "189aa8e5",
   "metadata": {},
   "source": [
    "training data has been set to be 90% of the total size of the data"
   ]
  },
  {
   "cell_type": "code",
   "execution_count": 45,
   "id": "c9f83779",
   "metadata": {},
   "outputs": [
    {
     "name": "stdout",
     "output_type": "stream",
     "text": [
      "(574211, 11)\n"
     ]
    }
   ],
   "source": [
    "print(X_train.shape)"
   ]
  },
  {
   "cell_type": "markdown",
   "id": "65d687c9",
   "metadata": {},
   "source": [
    "## Building Linear Regression Model"
   ]
  },
  {
   "cell_type": "code",
   "execution_count": 46,
   "id": "7329183e",
   "metadata": {},
   "outputs": [
    {
     "name": "stdout",
     "output_type": "stream",
     "text": [
      "For linear regression:\n",
      " MSE: 23878029552745.4\n",
      " Root MSE: 4886515.072395193\n",
      " R-Squared: 0.040487708182458726\n"
     ]
    }
   ],
   "source": [
    "reg = linear_model.LinearRegression()\n",
    "reg.fit(X_train, y_train)\n",
    "\n",
    "#calculating mse, root mse and r-square to evaluate the models\n",
    "predicted = reg.predict(X_test) \n",
    "\n",
    "mse = ((np.array(y_test)-predicted)**2).sum()/len(y_test)\n",
    "root_mse = np.sqrt(mse)\n",
    "r2_lr = r2_score(y_test, predicted)\n",
    "\n",
    "print(f'For linear regression:\\n MSE: {mse}\\n Root MSE: {root_mse}\\n R-Squared: {r2_lr}')"
   ]
  },
  {
   "cell_type": "code",
   "execution_count": 47,
   "id": "ad9c333b",
   "metadata": {},
   "outputs": [
    {
     "data": {
      "text/plain": [
       "17313965.45952204"
      ]
     },
     "execution_count": 47,
     "metadata": {},
     "output_type": "execute_result"
    }
   ],
   "source": [
    "mse/y.mean()"
   ]
  },
  {
   "cell_type": "markdown",
   "id": "c1474782",
   "metadata": {},
   "source": [
    "As expected the R-square is value low. \n",
    "MSE and Root MSE (both lower the better) are extremely high. For comparison, MSE is 17 million times the mean of purchase price."
   ]
  },
  {
   "cell_type": "markdown",
   "id": "164e7ea9",
   "metadata": {},
   "source": [
    "## Decision Tree"
   ]
  },
  {
   "cell_type": "markdown",
   "id": "2d7d69f3",
   "metadata": {},
   "source": [
    "Now I have explore if other models can predict the house prices better using the given predictors."
   ]
  },
  {
   "cell_type": "code",
   "execution_count": 48,
   "id": "92bdbcbb",
   "metadata": {},
   "outputs": [],
   "source": [
    "from sklearn.tree import DecisionTreeRegressor\n",
    "\n",
    "#decision tree model training for purchase data prediction\n",
    "clf_default = DecisionTreeRegressor(random_state=42)\n",
    "clf_default.fit(X_train, y_train)\n",
    "\n",
    "#model evaluation with testing data\n",
    "y_pred = clf_default.predict(X_test)"
   ]
  },
  {
   "cell_type": "code",
   "execution_count": 49,
   "id": "e5d1e292",
   "metadata": {},
   "outputs": [
    {
     "name": "stdout",
     "output_type": "stream",
     "text": [
      "For Decision Tree:\n",
      " MSE: 30541659317624.03\n",
      " Root MSE: 5526450.878965996\n",
      " R-Squared: -0.227282907202643\n"
     ]
    }
   ],
   "source": [
    "mse = ((np.array(y_test)-y_pred)**2).sum()/len(y_test)\n",
    "root_mse = np.sqrt(mse)\n",
    "r2_dt = r2_score(y_test, y_pred)\n",
    "\n",
    "print(f'For Decision Tree:\\n MSE: {mse}\\n Root MSE: {root_mse}\\n R-Squared: {r2_dt}')"
   ]
  },
  {
   "cell_type": "code",
   "execution_count": 50,
   "id": "e16b7344",
   "metadata": {},
   "outputs": [
    {
     "data": {
      "text/plain": [
       "22145765.140869126"
      ]
     },
     "execution_count": 50,
     "metadata": {},
     "output_type": "execute_result"
    }
   ],
   "source": [
    "mse/y.mean()"
   ]
  },
  {
   "cell_type": "markdown",
   "id": "e7a03ed0",
   "metadata": {},
   "source": [
    "## Findings"
   ]
  },
  {
   "cell_type": "code",
   "execution_count": 51,
   "id": "807579d7",
   "metadata": {},
   "outputs": [
    {
     "data": {
      "image/png": "[encoded data removed]",
      "text/plain": [
       "<Figure size 1000x600 with 1 Axes>"
      ]
     },
     "metadata": {},
     "output_type": "display_data"
    }
   ],
   "source": [
    "# Model performance data\n",
    "models = ['Model: Linear Regression', \n",
    "          'Model: Decision Tree']\n",
    "r2_values = [r2_lr, r2_dt]\n",
    "\n",
    "# Setting up the plotting\n",
    "fig, ax1 = plt.subplots(figsize=(10, 6))\n",
    "\n",
    "# First axis for r-square\n",
    "ax1.set_xlabel('Models')\n",
    "ax1.set_ylabel('R-Squared', color='tab:blue')\n",
    "ax1.bar(models, r2_values, color='skyblue', width=0.5)\n",
    "ax1.tick_params(axis='y', labelcolor='tab:blue')\n",
    "\n",
    "# Legend, title and grid\n",
    "fig.tight_layout()\n",
    "plt.grid(True, axis = 'y')\n",
    "plt.title('R-squared values of all models')\n",
    "\n",
    "plt.show()"
   ]
  },
  {
   "cell_type": "markdown",
   "id": "f584688c",
   "metadata": {},
   "source": [
    "Decision tree has performed worse than the linear regression model. The performance of this model is so bad that the R-squared value here is negative. **The negative R-squared value indicates that if the purchase price was predicted using the mean, it would have performed better than this model\"\n",
    "\n",
    "The probable reason decision tree has performed worse could be that: Decision trees can be very sensitive to noise in the data. If there is a lot of noise, the tree might try to fit this noise, leading to worse performance. Linear regression, being a more rigid model, might be less affected by noise and thus perform better."
   ]
  },
  {
   "cell_type": "markdown",
   "id": "1714935e",
   "metadata": {},
   "source": [
    "## Conclusion\n",
    "\n",
    "The analysis highlights the importance of feature selection in predictive modeling and demonstrates the effectiveness of logistic regression and KNN in classifying mobile price ranges. The comparison between models based on accuracy revealed that while logistic regression showed higher accuracy on the test set, KNN, with its robust cross-validation, was preferred due to better generalization.\n",
    "\n",
    "\n",
    "The linear regression model is recommended for predicting property purchase prices (this dataset only, for other dataset the scenarion might be different based on the dynamics of the data) due to its robustness and higher performance metrics. This model provides a more reliable basis for property valuation compared to decision tree models, which may overfit noisy data."
   ]
  }
 ],
 "metadata": {
  "kernelspec": {
   "display_name": "Python 3 (ipykernel)",
   "language": "python",
   "name": "python3"
  },
  "language_info": {
   "codemirror_mode": {
    "name": "ipython",
    "version": 3
   },
   "file_extension": ".py",
   "mimetype": "text/x-python",
   "name": "python",
   "nbconvert_exporter": "python",
   "pygments_lexer": "ipython3",
   "version": "3.11.5"
  }
 },
 "nbformat": 4,
 "nbformat_minor": 5
}
